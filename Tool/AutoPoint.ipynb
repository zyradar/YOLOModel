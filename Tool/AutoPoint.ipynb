{
 "cells": [
  {
   "cell_type": "code",
   "execution_count": 2,
   "metadata": {},
   "outputs": [
    {
     "name": "stdout",
     "output_type": "stream",
     "text": [
      "Pointed\n",
      "Pointed\n",
      "Pointed\n"
     ]
    }
   ],
   "source": [
    "import time\n",
    "import pyautogui\n",
    "\n",
    "while True:\n",
    "    # print(pyautogui.position())\n",
    "    time.sleep(30)\n",
    "    pyautogui.click(x=214,y=500,clicks=1,button='left')\n",
    "    print(\"Pointed\")"
   ]
  }
 ],
 "metadata": {
  "kernelspec": {
   "display_name": "Python 3.9.7 ('CUDA113')",
   "language": "python",
   "name": "python3"
  },
  "language_info": {
   "codemirror_mode": {
    "name": "ipython",
    "version": 3
   },
   "file_extension": ".py",
   "mimetype": "text/x-python",
   "name": "python",
   "nbconvert_exporter": "python",
   "pygments_lexer": "ipython3",
   "version": "3.9.7"
  },
  "orig_nbformat": 4,
  "vscode": {
   "interpreter": {
    "hash": "daad69cb03206b1f61b712e35177d2b5750ccad81663cb96eaf91acf97a2f524"
   }
  }
 },
 "nbformat": 4,
 "nbformat_minor": 2
}
