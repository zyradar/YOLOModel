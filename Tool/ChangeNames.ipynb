{
 "cells": [
  {
   "cell_type": "code",
   "execution_count": 21,
   "metadata": {},
   "outputs": [
    {
     "name": "stdout",
     "output_type": "stream",
     "text": [
      "8499\n"
     ]
    }
   ],
   "source": [
    "import os\n",
    "\n",
    "txtDir=r'D:\\Desktop\\Data\\BUFF\\Enhance\\Parts\\Little-Pure'\n",
    "names = os.listdir(txtDir)\n",
    "COUNT=0\n",
    "for name in names:\n",
    "    if \"IC-\" in name:\n",
    "        # print(name)\n",
    "        # srcPath=os.path.join(txtDir,name)\n",
    "        # dstPath=srcPath.replace(\"DYNAMIC-BLUE\",\"BLUE-DYNAMIC\")\n",
    "        # os.rename(srcPath,dstPath)\n",
    "        COUNT+=1\n",
    "print(COUNT)"
   ]
  },
  {
   "cell_type": "code",
   "execution_count": 29,
   "metadata": {},
   "outputs": [],
   "source": [
    "import cv2\n",
    "\n",
    "DIR=r\"D:\\Desktop\\Data\\BUFF\\Enhance\\Parts\\Little-Pure-Rename\"\n",
    "names = os.listdir(DIR)\n",
    "for name in names:\n",
    "    if \".jpg\" not in name:\n",
    "        continue\n",
    "    srcPath=os.path.join(DIR,name)\n",
    "    img=cv2.imread(srcPath)[...,::-1]\n",
    "    cv2.imshow(\"img\",img)\n",
    "    key=cv2.waitKey(1)\n",
    "    if key==27:\n",
    "        break\n",
    "cv2.destroyAllWindows()"
   ]
  }
 ],
 "metadata": {
  "kernelspec": {
   "display_name": "Python 3.9.7 ('CUDA113')",
   "language": "python",
   "name": "python3"
  },
  "language_info": {
   "codemirror_mode": {
    "name": "ipython",
    "version": 3
   },
   "file_extension": ".py",
   "mimetype": "text/x-python",
   "name": "python",
   "nbconvert_exporter": "python",
   "pygments_lexer": "ipython3",
   "version": "3.9.7"
  },
  "orig_nbformat": 4,
  "vscode": {
   "interpreter": {
    "hash": "daad69cb03206b1f61b712e35177d2b5750ccad81663cb96eaf91acf97a2f524"
   }
  }
 },
 "nbformat": 4,
 "nbformat_minor": 2
}
