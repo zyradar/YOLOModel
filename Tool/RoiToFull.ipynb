{
 "cells": [
  {
   "cell_type": "code",
   "execution_count": 20,
   "metadata": {},
   "outputs": [
    {
     "data": {
      "text/plain": [
       "[0.3756353,\n",
       " 0.27784607,\n",
       " 0.3561262,\n",
       " 0.26598677,\n",
       " 0.34243563,\n",
       " 0.31342393,\n",
       " 0.36126018,\n",
       " 0.32782447,\n",
       " 0.44675392,\n",
       " 0.3573668]"
      ]
     },
     "execution_count": 20,
     "metadata": {},
     "output_type": "execute_result"
    }
   ],
   "source": [
    "import numpy as np\n",
    "with open(r'D:\\Desktop\\Code\\Python\\Projects\\PTS5\\0_00006.txt','r') as f:\n",
    "    labels=np.asarray([line.strip().split()[1:] for line in f.readlines()],dtype=np.float32)\n",
    "    # for line in f.readlines():\n",
    "    #     line=np.asarray(line.strip().split(),dtype=np.float32)\n",
    "    #     print(line)\n",
    "    # labels.flatten\n",
    "for label in labels:\n",
    "    x,y,w,h=label[:4]\n",
    "    pts=label[4:].reshape(5,2)\n",
    "    \n",
    "    pts5=([[p[0]+p[0]*w, p[1]+p[1]*h] for p in pts])\n",
    "    pts5=sum(pts5,[])\n",
    "pts5"
   ]
  },
  {
   "cell_type": "code",
   "execution_count": 13,
   "metadata": {},
   "outputs": [],
   "source": [
    "x,y=[1,2]"
   ]
  },
  {
   "cell_type": "code",
   "execution_count": 29,
   "metadata": {},
   "outputs": [],
   "source": [
    "x=[\n",
    "    '45',\n",
    "    '667',\n",
    "]\n",
    "with open(r'D:\\Desktop\\Code\\Python\\Projects\\PTS5\\0_00006.txt','w') as f:\n",
    "    for i in x:\n",
    "        f.write(i)\n",
    "        f.write('\\n')"
   ]
  },
  {
   "cell_type": "code",
   "execution_count": 8,
   "metadata": {},
   "outputs": [
    {
     "data": {
      "text/plain": [
       "('A-BLUE-STATIC-01_00000', '.json')"
      ]
     },
     "execution_count": 8,
     "metadata": {},
     "output_type": "execute_result"
    }
   ],
   "source": [
    "import os\n",
    "path=r'D:\\Desktop\\Data\\BUFF\\版本控制\\新一批400\\400-Reflect'\n",
    "\n",
    "name=os.listdir(path)[0]\n",
    "os.path.splitext(name)"
   ]
  },
  {
   "cell_type": "code",
   "execution_count": 19,
   "metadata": {},
   "outputs": [
    {
     "data": {
      "text/plain": [
       "array([1.30186688, 3.77828539])"
      ]
     },
     "execution_count": 19,
     "metadata": {},
     "output_type": "execute_result"
    }
   ],
   "source": [
    "import numpy as np\n",
    "np.array([1,3])+[np.random.random(),np.random.random()]"
   ]
  },
  {
   "cell_type": "code",
   "execution_count": 48,
   "metadata": {},
   "outputs": [
    {
     "name": "stdout",
     "output_type": "stream",
     "text": [
      "[204, 180]\n"
     ]
    }
   ],
   "source": [
    "import cv2\n",
    "import numpy as np\n",
    "imgPath=r'D:\\Desktop\\Data\\BUFF\\版本控制\\新一批400\\400-Reflect\\A-BLUE-STATIC-01_Full_00130.jpg'\n",
    "image = cv2.imdecode(np.fromfile(imgPath, dtype=np.uint8),-1)\n",
    "point=[int(640*0.31515624999999997+3),int(384*0.46184895833333334+3),]\n",
    "print(point)\n",
    "image=cv2.line(image,[0,0],point,color=(255,255,255))\n",
    "cv2.imshow(\"s\",image)\n",
    "cv2.waitKey()\n",
    "cv2.destroyAllWindows()"
   ]
  },
  {
   "cell_type": "code",
   "execution_count": 32,
   "metadata": {},
   "outputs": [
    {
     "data": {
      "text/plain": [
       "201.7"
      ]
     },
     "execution_count": 32,
     "metadata": {},
     "output_type": "execute_result"
    }
   ],
   "source": [
    "640*0.31515624999999997"
   ]
  },
  {
   "cell_type": "code",
   "execution_count": 9,
   "metadata": {},
   "outputs": [
    {
     "name": "stdout",
     "output_type": "stream",
     "text": [
      "0.46184895833333334\n",
      "0.31515624999999997\n"
     ]
    }
   ],
   "source": [
    "x=0.6303124999999999\n",
    "y=0.4236979166666666\n",
    "height=300+y*600\n",
    "width=x*960\n",
    "print(height/1200)\n",
    "print(width/1920)"
   ]
  }
 ],
 "metadata": {
  "kernelspec": {
   "display_name": "Python 3.9.7 ('CUDA113')",
   "language": "python",
   "name": "python3"
  },
  "language_info": {
   "codemirror_mode": {
    "name": "ipython",
    "version": 3
   },
   "file_extension": ".py",
   "mimetype": "text/x-python",
   "name": "python",
   "nbconvert_exporter": "python",
   "pygments_lexer": "ipython3",
   "version": "3.9.7"
  },
  "orig_nbformat": 4,
  "vscode": {
   "interpreter": {
    "hash": "daad69cb03206b1f61b712e35177d2b5750ccad81663cb96eaf91acf97a2f524"
   }
  }
 },
 "nbformat": 4,
 "nbformat_minor": 2
}
