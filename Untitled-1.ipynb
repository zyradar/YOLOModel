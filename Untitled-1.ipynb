{
 "cells": [
  {
   "cell_type": "code",
   "execution_count": 3,
   "metadata": {
    "pycharm": {
     "name": "#%%\n"
    }
   },
   "outputs": [],
   "source": [
    "import torch"
   ]
  },
  {
   "cell_type": "code",
   "execution_count": 4,
   "metadata": {
    "pycharm": {
     "name": "#%%\n"
    }
   },
   "outputs": [
    {
     "data": {
      "text/plain": [
       "torch.Size([1, 2, 2, 3])"
      ]
     },
     "execution_count": 4,
     "metadata": {},
     "output_type": "execute_result"
    }
   ],
   "source": [
    "# torch.tensor()\n",
    "# torch.Tensor(1,384,640,3).permute(0,3,1,2).contiguous().shape\n",
    "# torch.Tensor(1,2,3).permute()\n",
    "# img = img[:, :, ::-1].transpose(2, 0, 1).copy()\n",
    "tens=torch.Tensor([[\n",
    "    [\n",
    "        [1,2,3],\n",
    "        [4,5,6]\n",
    "    ],\n",
    "    [\n",
    "        [1,2,3],\n",
    "        [4,5,6]\n",
    "    ],\n",
    "              ]])\n",
    "tens.flip(dims=[3]).shape"
   ]
  },
  {
   "cell_type": "code",
   "execution_count": 37,
   "metadata": {},
   "outputs": [
    {
     "data": {
      "text/plain": [
       "torch.return_types.max(\n",
       "values=tensor([1., 2., 3., 4., 5., 6.]),\n",
       "indices=tensor([0, 0, 0, 0, 0, 0]))"
      ]
     },
     "execution_count": 37,
     "metadata": {},
     "output_type": "execute_result"
    }
   ],
   "source": [
    "tens=torch.Tensor([[\n",
    "    [\n",
    "        [1,2,3],\n",
    "        [4,5,6]\n",
    "    ],\n",
    "    [\n",
    "        [1,2,3],\n",
    "        [4,5,6]\n",
    "    ],\n",
    "              ]]).view(2,6)\n",
    "torch.max(tens,dim=0)\n",
    "# tens"
   ]
  },
  {
   "cell_type": "code",
   "execution_count": 48,
   "metadata": {},
   "outputs": [
    {
     "name": "stdout",
     "output_type": "stream",
     "text": [
      "tensor([-1.2465,  0.2368,  0.2666, -0.7517])\n"
     ]
    },
    {
     "data": {
      "text/plain": [
       "tensor([[[-1.2465, -2.9586],\n",
       "         [ 0.3243, -0.5278],\n",
       "         [ 0.5490,  0.9538],\n",
       "         [ 1.1368,  0.2647]],\n",
       "\n",
       "        [[-0.6422,  3.3168],\n",
       "         [ 0.6745,  0.3928],\n",
       "         [ 0.2666, -1.2549],\n",
       "         [-0.7517, -0.5327]],\n",
       "\n",
       "        [[ 2.7468, -1.0396],\n",
       "         [ 0.2368, -0.7915],\n",
       "         [ 0.5283,  0.6436],\n",
       "         [ 1.3565, -0.2885]]])"
      ]
     },
     "execution_count": 48,
     "metadata": {},
     "output_type": "execute_result"
    }
   ],
   "source": [
    "tensor = torch.randn(3, 4, 2)  # 创建一个形状为 (3, 4, 2) 的张量，内容为随机数\n",
    "\n",
    "min_values = tensor[:, :, 0].min(dim=1).values  # 提取每个面上第一列的最小值\n",
    "\n",
    "print(min_values)  # 输出每个面上第一列的最小值\n",
    "tensor"
   ]
  }
 ],
 "metadata": {
  "kernelspec": {
   "display_name": "Python 3.9.7 ('CUDA113')",
   "language": "python",
   "name": "python3"
  },
  "language_info": {
   "codemirror_mode": {
    "name": "ipython",
    "version": 3
   },
   "file_extension": ".py",
   "mimetype": "text/x-python",
   "name": "python",
   "nbconvert_exporter": "python",
   "pygments_lexer": "ipython3",
   "version": "3.9.7"
  },
  "orig_nbformat": 4,
  "vscode": {
   "interpreter": {
    "hash": "daad69cb03206b1f61b712e35177d2b5750ccad81663cb96eaf91acf97a2f524"
   }
  }
 },
 "nbformat": 4,
 "nbformat_minor": 2
}
